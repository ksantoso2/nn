{
  "cells": [
    {
      "cell_type": "code",
      "execution_count": 1,
      "metadata": {
        "colab": {
          "base_uri": "https://localhost:8080/"
        },
        "id": "sfZqPtiHCfMn",
        "outputId": "a6b8124d-9efb-4ecc-ba19-1632c73b52b2"
      },
      "outputs": [
        {
          "name": "stdout",
          "output_type": "stream",
          "text": [
            "Using device: cuda\n"
          ]
        }
      ],
      "source": [
        "import torch\n",
        "import torch.nn as nn\n",
        "import torch.nn.functional as F\n",
        "import torch.optim as optim\n",
        "from torch.utils.data import DataLoader, random_split, Subset\n",
        "import torchvision\n",
        "import torchvision.transforms as transforms\n",
        "import matplotlib.pyplot as plt\n",
        "import numpy as np\n",
        "from sklearn.manifold import TSNE\n",
        "import seaborn as sns\n",
        "from tqdm import tqdm\n",
        "import os\n",
        "import random\n",
        "from sklearn.metrics import confusion_matrix, ConfusionMatrixDisplay\n",
        "import time\n",
        "\n",
        "torch.manual_seed(47)\n",
        "np.random.seed(47)\n",
        "random.seed(47)\n",
        "\n",
        "\n",
        "device = torch.device(\"cuda\" if torch.cuda.is_available() else \"cpu\")\n",
        "print(f\"Using device: {device}\")"
      ]
    },
    {
      "cell_type": "code",
      "execution_count": 2,
      "metadata": {
        "id": "ZNSmPwpBsf1e"
      },
      "outputs": [],
      "source": [
        "from sklearn.metrics import confusion_matrix, ConfusionMatrixDisplay\n",
        "import time"
      ]
    },
    {
      "cell_type": "code",
      "execution_count": 3,
      "metadata": {
        "colab": {
          "base_uri": "https://localhost:8080/",
          "height": 1000
        },
        "id": "UzLSnKi_E75g",
        "outputId": "80d7ccc1-c1af-4226-fe8b-6ab78bdf4207"
      },
      "outputs": [
        {
          "name": "stdout",
          "output_type": "stream",
          "text": [
            "Training set size: 54000\n",
            "Validation set size: 6000\n",
            "Test set size: 10000\n",
            "VisionTransformer(\n",
            "  (patch_embed): PatchEmbedding(\n",
            "    (proj): Conv2d(3, 64, kernel_size=(4, 4), stride=(4, 4))\n",
            "  )\n",
            "  (dropout): Dropout(p=0.1, inplace=False)\n",
            "  (transformer): TransformerEncoder(\n",
            "    (layers): ModuleList(\n",
            "      (0-5): 6 x TransformerEncoderLayer(\n",
            "        (self_attn): MultiheadAttention(\n",
            "          (out_proj): NonDynamicallyQuantizableLinear(in_features=64, out_features=64, bias=True)\n",
            "        )\n",
            "        (linear1): Linear(in_features=64, out_features=256, bias=True)\n",
            "        (dropout): Dropout(p=0.1, inplace=False)\n",
            "        (linear2): Linear(in_features=256, out_features=64, bias=True)\n",
            "        (norm1): LayerNorm((64,), eps=1e-05, elementwise_affine=True)\n",
            "        (norm2): LayerNorm((64,), eps=1e-05, elementwise_affine=True)\n",
            "        (dropout1): Dropout(p=0.1, inplace=False)\n",
            "        (dropout2): Dropout(p=0.1, inplace=False)\n",
            "      )\n",
            "    )\n",
            "  )\n",
            "  (embedding_layer): Sequential(\n",
            "    (0): LayerNorm((64,), eps=1e-05, elementwise_affine=True)\n",
            "    (1): Linear(in_features=64, out_features=128, bias=True)\n",
            "    (2): GELU(approximate='none')\n",
            "  )\n",
            "  (head): Linear(in_features=128, out_features=10, bias=True)\n",
            ")\n",
            "Number of parameters: 317,002\n"
          ]
        },
        {
          "name": "stderr",
          "output_type": "stream",
          "text": [
            "Epoch 1/10 [Train]: 100%|████████████████████████████████████████████████████| 422/422 [00:29<00:00, 14.41it/s, acc=0.251, cls_loss=1.76, loss=2.33, triplet=1.14]\n"
          ]
        },
        {
          "name": "stdout",
          "output_type": "stream",
          "text": [
            "Train - Cls Loss: 2.0529, Triplet Loss: 5.9931\n"
          ]
        },
        {
          "name": "stderr",
          "output_type": "stream",
          "text": [
            "Epoch 1/10 [Val]: 100%|█████████████████████████████████████████████████████████████████████████████████████| 47/47 [00:01<00:00, 25.33it/s, acc=0.392, loss=1.64]\n"
          ]
        },
        {
          "name": "stdout",
          "output_type": "stream",
          "text": [
            "Epoch 1/10: Train Loss: 5.0494, Train Acc: 0.2508, Val Loss: 1.6716, Val Acc: 0.3918\n",
            "New best model saved with validation accuracy: 0.3918\n"
          ]
        },
        {
          "name": "stderr",
          "output_type": "stream",
          "text": [
            "Epoch 2/10 [Train]: 100%|████████████████████████████████████████████████████| 422/422 [00:28<00:00, 14.86it/s, acc=0.443, cls_loss=1.46, loss=3.26, triplet=3.61]\n"
          ]
        },
        {
          "name": "stdout",
          "output_type": "stream",
          "text": [
            "Train - Cls Loss: 1.5335, Triplet Loss: 3.4960\n"
          ]
        },
        {
          "name": "stderr",
          "output_type": "stream",
          "text": [
            "Epoch 2/10 [Val]: 100%|█████████████████████████████████████████████████████████████████████████████████████| 47/47 [00:01<00:00, 25.36it/s, acc=0.466, loss=1.34]\n"
          ]
        },
        {
          "name": "stdout",
          "output_type": "stream",
          "text": [
            "Epoch 2/10: Train Loss: 3.2815, Train Acc: 0.4427, Val Loss: 1.4125, Val Acc: 0.4660\n",
            "New best model saved with validation accuracy: 0.4660\n"
          ]
        },
        {
          "name": "stderr",
          "output_type": "stream",
          "text": [
            "Epoch 3/10 [Train]: 100%|███████████████████████████████████████████████████████| 422/422 [00:28<00:00, 14.74it/s, acc=0.513, cls_loss=1.21, loss=1.21, triplet=0]\n"
          ]
        },
        {
          "name": "stdout",
          "output_type": "stream",
          "text": [
            "Train - Cls Loss: 1.3181, Triplet Loss: 3.2318\n"
          ]
        },
        {
          "name": "stderr",
          "output_type": "stream",
          "text": [
            "Epoch 3/10 [Val]: 100%|█████████████████████████████████████████████████████████████████████████████████████| 47/47 [00:01<00:00, 25.36it/s, acc=0.571, loss=1.11]\n"
          ]
        },
        {
          "name": "stdout",
          "output_type": "stream",
          "text": [
            "Epoch 3/10: Train Loss: 2.9340, Train Acc: 0.5135, Val Loss: 1.1749, Val Acc: 0.5707\n",
            "New best model saved with validation accuracy: 0.5707\n"
          ]
        },
        {
          "name": "stderr",
          "output_type": "stream",
          "text": [
            "Epoch 4/10 [Train]: 100%|████████████████████████████████████████████████████| 422/422 [00:28<00:00, 14.69it/s, acc=0.561, cls_loss=1.23, loss=3.22, triplet=3.97]\n"
          ]
        },
        {
          "name": "stdout",
          "output_type": "stream",
          "text": [
            "Train - Cls Loss: 1.1896, Triplet Loss: 2.8110\n"
          ]
        },
        {
          "name": "stderr",
          "output_type": "stream",
          "text": [
            "Epoch 4/10 [Val]: 100%|█████████████████████████████████████████████████████████████████████████████████████| 47/47 [00:01<00:00, 25.41it/s, acc=0.578, loss=1.08]\n"
          ]
        },
        {
          "name": "stdout",
          "output_type": "stream",
          "text": [
            "Epoch 4/10: Train Loss: 2.5951, Train Acc: 0.5609, Val Loss: 1.1473, Val Acc: 0.5780\n",
            "New best model saved with validation accuracy: 0.5780\n"
          ]
        },
        {
          "name": "stderr",
          "output_type": "stream",
          "text": [
            "Epoch 5/10 [Train]: 100%|██████████████████████████████████████████████████████| 422/422 [00:28<00:00, 14.70it/s, acc=0.581, cls_loss=1.05, loss=1.8, triplet=1.5]\n"
          ]
        },
        {
          "name": "stdout",
          "output_type": "stream",
          "text": [
            "Train - Cls Loss: 1.1222, Triplet Loss: 2.8321\n"
          ]
        },
        {
          "name": "stderr",
          "output_type": "stream",
          "text": [
            "Epoch 5/10 [Val]: 100%|█████████████████████████████████████████████████████████████████████████████████████| 47/47 [00:01<00:00, 25.41it/s, acc=0.59, loss=0.971]\n"
          ]
        },
        {
          "name": "stdout",
          "output_type": "stream",
          "text": [
            "Epoch 5/10: Train Loss: 2.5382, Train Acc: 0.5809, Val Loss: 1.0572, Val Acc: 0.5897\n",
            "New best model saved with validation accuracy: 0.5897\n"
          ]
        },
        {
          "name": "stderr",
          "output_type": "stream",
          "text": [
            "Epoch 6/10 [Train]: 100%|███████████████████████████████████████████████████| 422/422 [00:28<00:00, 14.73it/s, acc=0.611, cls_loss=0.971, loss=4.11, triplet=6.28]\n"
          ]
        },
        {
          "name": "stdout",
          "output_type": "stream",
          "text": [
            "Train - Cls Loss: 1.0312, Triplet Loss: 2.3591\n"
          ]
        },
        {
          "name": "stderr",
          "output_type": "stream",
          "text": [
            "Epoch 6/10 [Val]: 100%|████████████████████████████████████████████████████████████████████████████████████| 47/47 [00:01<00:00, 25.39it/s, acc=0.624, loss=0.871]\n"
          ]
        },
        {
          "name": "stdout",
          "output_type": "stream",
          "text": [
            "Epoch 6/10: Train Loss: 2.2108, Train Acc: 0.6105, Val Loss: 0.9602, Val Acc: 0.6235\n",
            "New best model saved with validation accuracy: 0.6235\n"
          ]
        },
        {
          "name": "stderr",
          "output_type": "stream",
          "text": [
            "Epoch 7/10 [Train]: 100%|█████████████████████████████████████████████████████| 422/422 [00:28<00:00, 14.79it/s, acc=0.636, cls_loss=0.928, loss=0.928, triplet=0]\n"
          ]
        },
        {
          "name": "stdout",
          "output_type": "stream",
          "text": [
            "Train - Cls Loss: 0.9641, Triplet Loss: 2.2064\n"
          ]
        },
        {
          "name": "stderr",
          "output_type": "stream",
          "text": [
            "Epoch 7/10 [Val]: 100%|█████████████████████████████████████████████████████████████████████████████████████| 47/47 [00:01<00:00, 25.40it/s, acc=0.66, loss=0.758]\n"
          ]
        },
        {
          "name": "stdout",
          "output_type": "stream",
          "text": [
            "Epoch 7/10: Train Loss: 2.0674, Train Acc: 0.6360, Val Loss: 0.8939, Val Acc: 0.6603\n",
            "New best model saved with validation accuracy: 0.6603\n"
          ]
        },
        {
          "name": "stderr",
          "output_type": "stream",
          "text": [
            "Epoch 8/10 [Train]: 100%|████████████████████████████████████████████████████| 422/422 [00:28<00:00, 14.73it/s, acc=0.652, cls_loss=0.919, loss=2.77, triplet=3.7]\n"
          ]
        },
        {
          "name": "stdout",
          "output_type": "stream",
          "text": [
            "Train - Cls Loss: 0.9290, Triplet Loss: 2.3547\n"
          ]
        },
        {
          "name": "stderr",
          "output_type": "stream",
          "text": [
            "Epoch 8/10 [Val]: 100%|████████████████████████████████████████████████████████████████████████████████████| 47/47 [00:01<00:00, 25.39it/s, acc=0.657, loss=0.798]\n"
          ]
        },
        {
          "name": "stdout",
          "output_type": "stream",
          "text": [
            "Epoch 8/10: Train Loss: 2.1063, Train Acc: 0.6522, Val Loss: 0.8900, Val Acc: 0.6572\n"
          ]
        },
        {
          "name": "stderr",
          "output_type": "stream",
          "text": [
            "Epoch 9/10 [Train]: 100%|████████████████████████████████████████████████████| 422/422 [00:28<00:00, 14.71it/s, acc=0.658, cls_loss=0.77, loss=1.94, triplet=2.35]\n"
          ]
        },
        {
          "name": "stdout",
          "output_type": "stream",
          "text": [
            "Train - Cls Loss: 0.8979, Triplet Loss: 2.0855\n"
          ]
        },
        {
          "name": "stderr",
          "output_type": "stream",
          "text": [
            "Epoch 9/10 [Val]: 100%|█████████████████████████████████████████████████████████████████████████████████████| 47/47 [00:01<00:00, 25.42it/s, acc=0.659, loss=0.74]\n"
          ]
        },
        {
          "name": "stdout",
          "output_type": "stream",
          "text": [
            "Epoch 9/10: Train Loss: 1.9407, Train Acc: 0.6581, Val Loss: 0.8488, Val Acc: 0.6592\n"
          ]
        },
        {
          "name": "stderr",
          "output_type": "stream",
          "text": [
            "Epoch 10/10 [Train]: 100%|███████████████████████████████████████████████████| 422/422 [00:28<00:00, 14.72it/s, acc=0.662, cls_loss=0.83, loss=2.87, triplet=4.08]\n"
          ]
        },
        {
          "name": "stdout",
          "output_type": "stream",
          "text": [
            "Train - Cls Loss: 0.8778, Triplet Loss: 2.0822\n"
          ]
        },
        {
          "name": "stderr",
          "output_type": "stream",
          "text": [
            "Epoch 10/10 [Val]: 100%|███████████████████████████████████████████████████████████████████████████████████| 47/47 [00:01<00:00, 25.43it/s, acc=0.672, loss=0.742]\n"
          ]
        },
        {
          "name": "stdout",
          "output_type": "stream",
          "text": [
            "Epoch 10/10: Train Loss: 1.9190, Train Acc: 0.6623, Val Loss: 0.8361, Val Acc: 0.6723\n",
            "New best model saved with validation accuracy: 0.6723\n",
            "Best validation accuracy: 0.6723\n"
          ]
        },
        {
          "data": {
            "image/png": "[encoded data removed]",
            "text/plain": [
              "<Figure size 1200x500 with 2 Axes>"
            ]
          },
          "metadata": {},
          "output_type": "display_data"
        },
        {
          "name": "stderr",
          "output_type": "stream",
          "text": [
            "Evaluating: 100%|█████████████████████████████████████████████████████████████████████████████████████████████████████████████████| 79/79 [00:01<00:00, 68.33it/s]\n"
          ]
        },
        {
          "name": "stdout",
          "output_type": "stream",
          "text": [
            "Test Accuracy: 0.6663\n",
            "Evaluation Time: 1.16 seconds\n"
          ]
        },
        {
          "data": {
            "image/png": "[encoded data removed]",
            "text/plain": [
              "<Figure size 640x480 with 2 Axes>"
            ]
          },
          "metadata": {},
          "output_type": "display_data"
        },
        {
          "ename": "TypeError",
          "evalue": "cannot unpack non-iterable NoneType object",
          "output_type": "error",
          "traceback": [
            "\u001b[0;31m---------------------------------------------------------------------------\u001b[0m",
            "\u001b[0;31mTypeError\u001b[0m                                 Traceback (most recent call last)",
            "Cell \u001b[0;32mIn[3], line 629\u001b[0m\n\u001b[1;32m    626\u001b[0m     \u001b[38;5;28mprint\u001b[39m(\u001b[38;5;124m\"\u001b[39m\u001b[38;5;124mAll visualizations have been saved as PNG files in the current directory.\u001b[39m\u001b[38;5;124m\"\u001b[39m)\n\u001b[1;32m    628\u001b[0m \u001b[38;5;28;01mif\u001b[39;00m \u001b[38;5;18m__name__\u001b[39m \u001b[38;5;241m==\u001b[39m \u001b[38;5;124m\"\u001b[39m\u001b[38;5;124m__main__\u001b[39m\u001b[38;5;124m\"\u001b[39m:\n\u001b[0;32m--> 629\u001b[0m     \u001b[43mmain\u001b[49m\u001b[43m(\u001b[49m\u001b[43m)\u001b[49m\n",
            "Cell \u001b[0;32mIn[3], line 610\u001b[0m, in \u001b[0;36mmain\u001b[0;34m()\u001b[0m\n\u001b[1;32m    607\u001b[0m model\u001b[38;5;241m.\u001b[39mload_state_dict(torch\u001b[38;5;241m.\u001b[39mload(model_save_path))\n\u001b[1;32m    609\u001b[0m \u001b[38;5;66;03m# Evaluate model\u001b[39;00m\n\u001b[0;32m--> 610\u001b[0m accuracy, all_preds, all_labels, confusion_matrix \u001b[38;5;241m=\u001b[39m evaluate_model(model, test_loader)\n\u001b[1;32m    612\u001b[0m \u001b[38;5;66;03m# Extract embeddings\u001b[39;00m\n\u001b[1;32m    613\u001b[0m test_embeddings, test_labels \u001b[38;5;241m=\u001b[39m extract_embeddings(model, test_loader)\n",
            "\u001b[0;31mTypeError\u001b[0m: cannot unpack non-iterable NoneType object"
          ]
        }
      ],
      "source": [
        "def load_fashion_mnist(batch_size=64, subset_fraction=0.2, selected_classes=None):\n",
        "    transform_train = transforms.Compose([\n",
        "      transforms.Resize((32, 32)),\n",
        "      transforms.RandomHorizontalFlip(),\n",
        "      transforms.RandomRotation(10),\n",
        "      transforms.ColorJitter(brightness=0.2, contrast=0.2),\n",
        "      transforms.ToTensor(),\n",
        "      transforms.Lambda(lambda x: x.repeat(3, 1, 1))  # convert 1 channel to 3\n",
        "    ])\n",
        "\n",
        "    transform_test = transforms.Compose([\n",
        "      transforms.Resize((32, 32)),\n",
        "      transforms.ToTensor(),\n",
        "      transforms.Lambda(lambda x: x.repeat(3, 1, 1))\n",
        "    ])\n",
        "\n",
        "    train_full = torchvision.datasets.FashionMNIST(\n",
        "        root='./data',\n",
        "        train=True,\n",
        "        download=True,\n",
        "        transform=transform_train\n",
        "    )\n",
        "\n",
        "    test_full = torchvision.datasets.FashionMNIST(\n",
        "        root='./data',\n",
        "        train=False,\n",
        "        download=True,\n",
        "        transform=transform_test\n",
        "    )\n",
        "\n",
        "    # filter by classes and subset data\n",
        "    if selected_classes is not None:\n",
        "        train_indices = [i for i, (_, label) in enumerate(train_full) if label in selected_classes]\n",
        "        test_indices = [i for i, (_, label) in enumerate(test_full) if label in selected_classes]\n",
        "\n",
        "        train_full = Subset(train_full, train_indices)\n",
        "        test_full = Subset(test_full, test_indices)\n",
        "\n",
        "    if subset_fraction < 1.0:\n",
        "        train_size = int(len(train_full) * subset_fraction)\n",
        "        test_size = int(len(test_full) * subset_fraction)\n",
        "\n",
        "        train_indices = random.sample(range(len(train_full)), train_size)\n",
        "        test_indices = random.sample(range(len(test_full)), test_size)\n",
        "\n",
        "        train_subset = Subset(train_full, train_indices)\n",
        "        test_subset = Subset(test_full, test_indices)\n",
        "    else:\n",
        "        train_subset = train_full\n",
        "        test_subset = test_full\n",
        "\n",
        "    # split training data and create validation sets\n",
        "    train_size = int(0.9 * len(train_subset))\n",
        "    val_size = len(train_subset) - train_size\n",
        "    train_dataset, val_dataset = random_split(train_subset, [train_size, val_size])\n",
        "\n",
        "    train_loader = DataLoader(train_dataset, batch_size=batch_size, shuffle=True)\n",
        "    val_loader = DataLoader(val_dataset, batch_size=batch_size)\n",
        "    test_loader = DataLoader(test_subset, batch_size=batch_size)\n",
        "\n",
        "    class_names = ['T-shirt/top', 'Trouser', 'Pullover', 'Dress', 'Coat',\n",
        "                   'Sandal', 'Shirt', 'Sneaker', 'Bag', 'Ankle boot']\n",
        "\n",
        "    if selected_classes:\n",
        "        # filter class names\n",
        "        class_names = [class_names[i] for i in selected_classes]\n",
        "\n",
        "    print(f\"Training set size: {len(train_dataset)}\")\n",
        "    print(f\"Validation set size: {len(val_dataset)}\")\n",
        "    print(f\"Test set size: {len(test_subset)}\")\n",
        "\n",
        "    return train_loader, val_loader, test_loader, class_names\n",
        "\n",
        "# Patches and Positional Encoding\n",
        "class PatchEmbedding(nn.Module):\n",
        "    def __init__(self, in_channels=3, patch_size=4, embed_dim=64, img_size=32):\n",
        "        super().__init__()\n",
        "        self.patch_size = patch_size\n",
        "        self.num_patches = (img_size // patch_size) ** 2\n",
        "        self.proj = nn.Conv2d(\n",
        "            in_channels,\n",
        "            embed_dim,\n",
        "            kernel_size=patch_size,\n",
        "            stride=patch_size\n",
        "        )\n",
        "\n",
        "    def forward(self, x):\n",
        "        # x shape: [batch_size, channels, height, width]\n",
        "        # Output shape: [batch_size, num_patches, embed_dim]\n",
        "        x = self.proj(x)  # [batch_size, embed_dim, grid_size, grid_size]\n",
        "        x = x.flatten(2)  # [batch_size, embed_dim, num_patches]\n",
        "        x = x.transpose(1, 2)  # [batch_size, num_patches, embed_dim]\n",
        "        return x\n",
        "\n",
        "# Vision Transformer Model\n",
        "class VisionTransformer(nn.Module):\n",
        "    def __init__(\n",
        "        self,\n",
        "        img_size=32,\n",
        "        patch_size=4,\n",
        "        in_channels=3,\n",
        "        embed_dim=64,\n",
        "        depth=6,\n",
        "        num_heads=4,\n",
        "        mlp_ratio=4.0,\n",
        "        dropout=0.1,\n",
        "        attn_dropout=0.1,\n",
        "        embedding_dropout=0.1,\n",
        "        embedding_dim=128,\n",
        "        num_classes=10\n",
        "    ):\n",
        "        super().__init__()\n",
        "\n",
        "        # Patch embedding\n",
        "        self.patch_embed = PatchEmbedding(\n",
        "            in_channels=in_channels,\n",
        "            patch_size=patch_size,\n",
        "            embed_dim=embed_dim,\n",
        "            img_size=img_size\n",
        "        )\n",
        "        num_patches = self.patch_embed.num_patches\n",
        "\n",
        "        # Class token and positional embedding\n",
        "        self.cls_token = nn.Parameter(torch.zeros(1, 1, embed_dim))\n",
        "        self.pos_embed = nn.Parameter(torch.zeros(1, num_patches + 1, embed_dim))\n",
        "\n",
        "        # Embedding dropout\n",
        "        self.dropout = nn.Dropout(embedding_dropout)\n",
        "\n",
        "        # Transformer encoder\n",
        "        self.transformer = nn.TransformerEncoder(\n",
        "            nn.TransformerEncoderLayer(\n",
        "                d_model=embed_dim,\n",
        "                nhead=num_heads,\n",
        "                dim_feedforward=int(embed_dim * mlp_ratio),\n",
        "                dropout=dropout,\n",
        "                activation=\"gelu\",\n",
        "                batch_first=True\n",
        "            ),\n",
        "            num_layers=depth\n",
        "        )\n",
        "\n",
        "        # MLP head for embeddings\n",
        "        self.embedding_layer = nn.Sequential(\n",
        "            nn.LayerNorm(embed_dim),\n",
        "            nn.Linear(embed_dim, embedding_dim),\n",
        "            nn.GELU()\n",
        "        )\n",
        "\n",
        "        # Classification head\n",
        "        self.head = nn.Linear(embedding_dim, num_classes)\n",
        "\n",
        "        # Initialize weights\n",
        "        nn.init.trunc_normal_(self.pos_embed, std=0.02)\n",
        "        nn.init.trunc_normal_(self.cls_token, std=0.02)\n",
        "        self.apply(self._init_weights)\n",
        "\n",
        "    def _init_weights(self, m):\n",
        "        if isinstance(m, nn.Linear):\n",
        "            nn.init.trunc_normal_(m.weight, std=0.02)\n",
        "            if m.bias is not None:\n",
        "                nn.init.constant_(m.bias, 0)\n",
        "        elif isinstance(m, nn.LayerNorm):\n",
        "            nn.init.constant_(m.bias, 0)\n",
        "            nn.init.constant_(m.weight, 1.0)\n",
        "\n",
        "    def forward(self, x, return_embeddings=False):\n",
        "        # Patch embedding\n",
        "        x = self.patch_embed(x)  # [batch_size, num_patches, embed_dim]\n",
        "\n",
        "        # Add class token\n",
        "        cls_token = self.cls_token.expand(x.shape[0], -1, -1)\n",
        "        x = torch.cat((cls_token, x), dim=1)  # [batch_size, num_patches + 1, embed_dim]\n",
        "\n",
        "        # Add positional embedding\n",
        "        x = x + self.pos_embed\n",
        "        x = self.dropout(x)\n",
        "\n",
        "        # Apply transformer\n",
        "        x = self.transformer(x)\n",
        "\n",
        "        # Take class token for classification\n",
        "        cls_token_final = x[:, 0]\n",
        "\n",
        "        # Apply embedding layer\n",
        "        embeddings = self.embedding_layer(cls_token_final)\n",
        "\n",
        "        # Apply classification head\n",
        "        logits = self.head(embeddings)\n",
        "\n",
        "        if return_embeddings:\n",
        "            return logits, embeddings\n",
        "        else:\n",
        "            return logits\n",
        "\n",
        "# Metric Learning Loss Functions\n",
        "class TripletLoss(nn.Module):\n",
        "    def __init__(self, margin=1.0):\n",
        "        super(TripletLoss, self).__init__()\n",
        "        self.margin = margin\n",
        "\n",
        "    def forward(self, anchor, positive, negative):\n",
        "        positive_dist = torch.sum((anchor - positive) ** 2, dim=1)\n",
        "        negative_dist = torch.sum((anchor - negative) ** 2, dim=1)\n",
        "\n",
        "        losses = F.relu(positive_dist - negative_dist + self.margin)\n",
        "        return torch.mean(losses)\n",
        "\n",
        "# Metric learning training with triplet loss\n",
        "def train_with_metric_learning(model, train_loader, val_loader, optimizer, scheduler, num_epochs=15, save_path='best_model.pth'):\n",
        "    classification_criterion = nn.CrossEntropyLoss()\n",
        "    triplet_criterion = TripletLoss(margin=1.0)\n",
        "\n",
        "    best_val_acc = 0.0\n",
        "    train_losses = []\n",
        "    val_losses = []\n",
        "    train_accs = []\n",
        "    val_accs = []\n",
        "\n",
        "    for epoch in range(num_epochs):\n",
        "        # Training phase\n",
        "        model.train()\n",
        "        running_loss = 0.0\n",
        "        running_cls_loss = 0.0\n",
        "        running_triplet_loss = 0.0\n",
        "        correct = 0\n",
        "        total = 0\n",
        "\n",
        "        train_bar = tqdm(train_loader, desc=f\"Epoch {epoch+1}/{num_epochs} [Train]\")\n",
        "        for inputs, labels in train_bar:\n",
        "            inputs, labels = inputs.to(device), labels.to(device)\n",
        "\n",
        "            # Zero the parameter gradients\n",
        "            optimizer.zero_grad()\n",
        "\n",
        "            # Forward pass\n",
        "            outputs, embeddings = model(inputs, return_embeddings=True)\n",
        "\n",
        "            # Classification loss\n",
        "            cls_loss = classification_criterion(outputs, labels)\n",
        "\n",
        "            # Triplet loss (if we have enough classes in the batch)\n",
        "            triplet_loss = torch.tensor(0.0).to(device)\n",
        "            unique_labels = torch.unique(labels)\n",
        "\n",
        "            # Only compute triplet loss if we have at least 2 classes in the batch\n",
        "            if len(unique_labels) >= 2:\n",
        "                # For each anchor, find a positive and negative\n",
        "                for label in unique_labels:\n",
        "                    mask_anchor = (labels == label)\n",
        "                    mask_negative = (labels != label)\n",
        "\n",
        "                    if mask_anchor.sum() >= 2 and mask_negative.sum() >= 1:\n",
        "                        # Get anchors and positives (same class)\n",
        "                        anchor_indices = torch.where(mask_anchor)[0]\n",
        "                        positive_indices = anchor_indices[torch.randperm(len(anchor_indices))]\n",
        "\n",
        "                        # Ensure anchor and positive are different\n",
        "                        mask_diff = (anchor_indices != positive_indices)\n",
        "                        if mask_diff.sum() > 0:\n",
        "                            anchor_indices = anchor_indices[mask_diff][:1]  # Take just one\n",
        "                            positive_indices = positive_indices[mask_diff][:1]  # Take just one\n",
        "\n",
        "                            # Get negatives (different class)\n",
        "                            negative_indices = torch.where(mask_negative)[0]\n",
        "                            negative_indices = negative_indices[torch.randperm(len(negative_indices))][:1]  # Take just one\n",
        "\n",
        "                            anchor_embeds = embeddings[anchor_indices]\n",
        "                            positive_embeds = embeddings[positive_indices]\n",
        "                            negative_embeds = embeddings[negative_indices]\n",
        "\n",
        "                            batch_triplet_loss = triplet_criterion(anchor_embeds, positive_embeds, negative_embeds)\n",
        "                            triplet_loss += batch_triplet_loss\n",
        "\n",
        "            # Total loss\n",
        "            loss = cls_loss + 0.5 * triplet_loss\n",
        "\n",
        "            # Backward pass and optimize\n",
        "            loss.backward()\n",
        "            optimizer.step()\n",
        "\n",
        "            # Statistics\n",
        "            running_loss += loss.item() * inputs.size(0)\n",
        "            running_cls_loss += cls_loss.item() * inputs.size(0)\n",
        "            running_triplet_loss += triplet_loss.item() * inputs.size(0)\n",
        "            _, predicted = torch.max(outputs, 1)\n",
        "            total += labels.size(0)\n",
        "            correct += (predicted == labels).sum().item()\n",
        "\n",
        "            train_bar.set_postfix(\n",
        "                loss=loss.item(),\n",
        "                cls_loss=cls_loss.item(),\n",
        "                triplet=triplet_loss.item(),\n",
        "                acc=correct/total\n",
        "            )\n",
        "\n",
        "        epoch_train_loss = running_loss / len(train_loader.dataset)\n",
        "        epoch_cls_loss = running_cls_loss / len(train_loader.dataset)\n",
        "        epoch_triplet_loss = running_triplet_loss / len(train_loader.dataset)\n",
        "        epoch_train_acc = correct / total\n",
        "        train_losses.append(epoch_train_loss)\n",
        "        train_accs.append(epoch_train_acc)\n",
        "\n",
        "        print(f\"Train - Cls Loss: {epoch_cls_loss:.4f}, Triplet Loss: {epoch_triplet_loss:.4f}\")\n",
        "\n",
        "        # Validation phase\n",
        "        model.eval()\n",
        "        running_loss = 0.0\n",
        "        correct = 0\n",
        "        total = 0\n",
        "\n",
        "        with torch.no_grad():\n",
        "            val_bar = tqdm(val_loader, desc=f\"Epoch {epoch+1}/{num_epochs} [Val]\")\n",
        "            for inputs, labels in val_bar:\n",
        "                inputs, labels = inputs.to(device), labels.to(device)\n",
        "\n",
        "                outputs = model(inputs)\n",
        "                loss = classification_criterion(outputs, labels)\n",
        "\n",
        "                running_loss += loss.item() * inputs.size(0)\n",
        "                _, predicted = torch.max(outputs, 1)\n",
        "                total += labels.size(0)\n",
        "                correct += (predicted == labels).sum().item()\n",
        "\n",
        "                val_bar.set_postfix(loss=loss.item(), acc=correct/total)\n",
        "\n",
        "        epoch_val_loss = running_loss / len(val_loader.dataset)\n",
        "        epoch_val_acc = correct / total\n",
        "        val_losses.append(epoch_val_loss)\n",
        "        val_accs.append(epoch_val_acc)\n",
        "\n",
        "        print(f\"Epoch {epoch+1}/{num_epochs}: \"\n",
        "              f\"Train Loss: {epoch_train_loss:.4f}, Train Acc: {epoch_train_acc:.4f}, \"\n",
        "              f\"Val Loss: {epoch_val_loss:.4f}, Val Acc: {epoch_val_acc:.4f}\")\n",
        "\n",
        "        # Adjust learning rate\n",
        "        if scheduler:\n",
        "            scheduler.step()\n",
        "\n",
        "        # Save best model\n",
        "        if epoch_val_acc > best_val_acc:\n",
        "            best_val_acc = epoch_val_acc\n",
        "            torch.save(model.state_dict(), save_path)\n",
        "            print(f\"New best model saved with validation accuracy: {best_val_acc:.4f}\")\n",
        "\n",
        "    print(f\"Best validation accuracy: {best_val_acc:.4f}\")\n",
        "    return train_losses, val_losses, train_accs, val_accs\n",
        "\n",
        "\n",
        "def evaluate_model(model, test_loader, class_names=[\"T-shirt/top\", \"Trouser\", \"Pullover\", \"Dress\", \"Coat\", \"Sandal\", \"Shirt\", \"Sneaker\", \"Bag\", \"Ankle boot\"], plot_confusion=True):\n",
        "    model.eval()\n",
        "    correct = 0\n",
        "    total = 0\n",
        "    all_preds = []\n",
        "    all_labels = []\n",
        "\n",
        "    start_time = time.time()\n",
        "\n",
        "    with torch.no_grad():\n",
        "        for inputs, labels in tqdm(test_loader, desc=\"Evaluating\"):\n",
        "            inputs, labels = inputs.to(device), labels.to(device)\n",
        "            outputs = model(inputs)\n",
        "            _, predicted = torch.max(outputs, 1)\n",
        "\n",
        "            total += labels.size(0)\n",
        "            correct += (predicted == labels).sum().item()\n",
        "\n",
        "            all_preds.extend(predicted.cpu().numpy())\n",
        "            all_labels.extend(labels.cpu().numpy())\n",
        "\n",
        "    end_time = time.time()\n",
        "    elapsed_time = end_time - start_time\n",
        "    accuracy = correct / total\n",
        "\n",
        "    print(f\"Test Accuracy: {accuracy:.4f}\")\n",
        "    print(f\"Evaluation Time: {elapsed_time:.2f} seconds\")\n",
        "\n",
        "    # Confusion Matrix\n",
        "    cm = confusion_matrix(all_labels, all_preds)\n",
        "    cm = cm.astype('float') / cm.sum(axis=1)[:, np.newaxis]  # normalize\n",
        "\n",
        "    plt.imshow(cm, cmap='Blues')\n",
        "    plt.title('Confusion Matrix (Normalized)')\n",
        "    plt.xlabel('Predicted Label')\n",
        "    plt.ylabel('True Label')\n",
        "\n",
        "    labels = ['T-shirt/top', 'Trouser', 'Pullover', 'Dress', 'Coat',\n",
        "              'Sandal', 'Shirt', 'Sneaker', 'Bag', 'Ankle boot']\n",
        "    plt.xticks(np.arange(10), labels, rotation=45, ha=\"right\")\n",
        "    plt.yticks(np.arange(10), labels)\n",
        "\n",
        "    for i in range(10):\n",
        "        for j in range(10):\n",
        "            plt.text(j, i, f\"{cm[i, j]:.2f}\", ha='center', va='center', color='black')\n",
        "\n",
        "    plt.colorbar()\n",
        "    plt.tight_layout()\n",
        "    plt.show()\n",
        "\n",
        "# Compute pairwise distances between embeddings\n",
        "def compute_distance_matrix(embeddings, metric='euclidean'):\n",
        "    \"\"\"Compute pairwise distances between embeddings\"\"\"\n",
        "    if metric == 'euclidean':\n",
        "        # Euclidean distance\n",
        "        sq_dists = torch.cdist(\n",
        "            torch.tensor(embeddings),\n",
        "            torch.tensor(embeddings),\n",
        "            p=2\n",
        "        ).square().numpy()\n",
        "        return sq_dists\n",
        "    elif metric == 'cosine':\n",
        "        # Cosine similarity\n",
        "        normalized = embeddings / np.linalg.norm(embeddings, axis=1, keepdims=True)\n",
        "        similarities = np.dot(normalized, normalized.T)\n",
        "        # Convert to distance (1 - similarity)\n",
        "        return 1 - similarities\n",
        "    else:\n",
        "        raise ValueError(f\"Unknown metric: {metric}\")\n",
        "\n",
        "# Precision at K\n",
        "def precision_at_k(distance_matrix, labels, k=5):\n",
        "    \"\"\"Calculate precision@k for retrieval\"\"\"\n",
        "    n = distance_matrix.shape[0]\n",
        "    # For each query, get the indices of the k closest items\n",
        "    neighbors = np.argsort(distance_matrix, axis=1)[:, 1:k+1]  # Skip the first one (self)\n",
        "\n",
        "    # Check if neighbors have the same label\n",
        "    precision = 0\n",
        "    for i in range(n):\n",
        "        query_label = labels[i]\n",
        "        neighbor_labels = labels[neighbors[i]]\n",
        "        precision += np.mean(neighbor_labels == query_label)\n",
        "\n",
        "    return precision / n\n",
        "\n",
        "# Visualize nearest neighbors\n",
        "def visualize_neighbors(data_loader, embeddings, labels, class_names, num_queries=5, k=5):\n",
        "    \"\"\"Visualize query images and their nearest neighbors\"\"\"\n",
        "    # Get images and their corresponding labels/embeddings\n",
        "    all_images = []\n",
        "    all_indices = []\n",
        "\n",
        "    # Extract a few images for visualization\n",
        "    for batch_idx, (images, batch_labels) in enumerate(data_loader):\n",
        "        all_images.append(images)\n",
        "        all_indices.extend(range(batch_idx * data_loader.batch_size,\n",
        "                          min((batch_idx + 1) * data_loader.batch_size, len(data_loader.dataset))))\n",
        "        if len(all_indices) >= 1000:  # Limit the number of images to process\n",
        "            break\n",
        "\n",
        "    all_images = torch.cat(all_images, dim=0)\n",
        "\n",
        "    # Compute distances between embeddings\n",
        "    distances = compute_distance_matrix(embeddings)\n",
        "\n",
        "    # Select random query images\n",
        "    query_indices = np.random.choice(len(all_indices), num_queries, replace=False)\n",
        "\n",
        "    plt.figure(figsize=(15, num_queries * 2))\n",
        "\n",
        "    for i, query_idx in enumerate(query_indices):\n",
        "        real_query_idx = all_indices[query_idx]\n",
        "        query_label = labels[real_query_idx]\n",
        "\n",
        "        # Get k nearest neighbors\n",
        "        neighbor_indices = np.argsort(distances[real_query_idx])\n",
        "        neighbor_indices = neighbor_indices[1:k+1]  # Skip the first one (self)\n",
        "\n",
        "        # Display query image\n",
        "        plt.subplot(num_queries, k+1, i*(k+1) + 1)\n",
        "        img = all_images[query_idx].permute(1, 2, 0).numpy()\n",
        "        img = img[:, :, 0]  # Take only first channel for display\n",
        "        plt.imshow(img, cmap='gray')\n",
        "        plt.title(f\"Query: {class_names[query_label]}\", fontsize=8)\n",
        "        plt.axis('off')\n",
        "\n",
        "        # Display nearest neighbors\n",
        "        for j, neighbor_idx in enumerate(neighbor_indices):\n",
        "            real_neighbor_idx = all_indices[neighbor_idx]\n",
        "            neighbor_label = labels[real_neighbor_idx]\n",
        "\n",
        "            plt.subplot(num_queries, k+1, i*(k+1) + j + 2)\n",
        "            img = all_images[neighbor_idx].permute(1, 2, 0).numpy()\n",
        "            img = img[:, :, 0]\n",
        "            plt.imshow(img, cmap='gray')\n",
        "\n",
        "            # Color the title based on if it's the same class\n",
        "            color = 'green' if neighbor_label == query_label else 'red'\n",
        "            plt.title(f\"{class_names[neighbor_label]}\", fontsize=8, color=color)\n",
        "            plt.axis('off')\n",
        "\n",
        "    plt.tight_layout()\n",
        "    plt.savefig('fashion_mnist_neighbors.png')\n",
        "    plt.show()\n",
        "\n",
        "# Visualize embeddings\n",
        "def visualize_embeddings(embeddings, labels, class_names):\n",
        "    print(\"Performing t-SNE dimensionality reduction...\")\n",
        "    tsne = TSNE(n_components=2, random_state=42, perplexity=30, n_iter=300)\n",
        "    reduced_embeddings = tsne.fit_transform(embeddings)\n",
        "\n",
        "    plt.figure(figsize=(12, 10))\n",
        "    scatter = plt.scatter(\n",
        "        reduced_embeddings[:, 0],\n",
        "        reduced_embeddings[:, 1],\n",
        "        c=labels,\n",
        "        cmap='tab10',\n",
        "        alpha=0.7,\n",
        "        s=10\n",
        "    )\n",
        "    plt.colorbar(scatter, ticks=range(len(class_names)))\n",
        "    plt.title('t-SNE visualization of Fashion MNIST embeddings')\n",
        "    plt.tight_layout()\n",
        "\n",
        "    # Add legend\n",
        "    handles, _ = scatter.legend_elements()\n",
        "    plt.legend(handles, class_names, loc=\"upper right\", title=\"Classes\")\n",
        "\n",
        "    plt.savefig('fashion_mnist_embeddings_pytorch.png')\n",
        "    plt.show()\n",
        "\n",
        "# Plot training history\n",
        "def plot_training_history(train_losses, val_losses, train_accs, val_accs):\n",
        "    plt.figure(figsize=(12, 5))\n",
        "\n",
        "    plt.subplot(1, 2, 1)\n",
        "    plt.plot(train_losses, label='Training Loss')\n",
        "    plt.plot(val_losses, label='Validation Loss')\n",
        "    plt.xlabel('Epoch')\n",
        "    plt.ylabel('Loss')\n",
        "    plt.legend()\n",
        "\n",
        "    plt.subplot(1, 2, 2)\n",
        "    plt.plot(train_accs, label='Training Accuracy')\n",
        "    plt.plot(val_accs, label='Validation Accuracy')\n",
        "    plt.xlabel('Epoch')\n",
        "    plt.ylabel('Accuracy')\n",
        "    plt.legend()\n",
        "\n",
        "    plt.tight_layout()\n",
        "    plt.savefig('fashion_mnist_training_history_pytorch.png')\n",
        "    plt.show()\n",
        "\n",
        "# Main function\n",
        "def main():\n",
        "    # Hyperparameters\n",
        "    batch_size = 128\n",
        "    num_epochs = 10\n",
        "    learning_rate = 3e-4\n",
        "    weight_decay = 1e-4\n",
        "\n",
        "    # Load data with subset\n",
        "    subset_fraction = 1\n",
        "\n",
        "    train_loader, val_loader, test_loader, class_names = load_fashion_mnist(\n",
        "        batch_size=batch_size,\n",
        "        subset_fraction=subset_fraction\n",
        "    )\n",
        "\n",
        "    # Number of classes\n",
        "    num_classes = len(class_names)\n",
        "\n",
        "    # Create model\n",
        "    model = VisionTransformer(\n",
        "        img_size=32,\n",
        "        patch_size=4,\n",
        "        in_channels=3,\n",
        "        embed_dim=64,\n",
        "        depth=6,\n",
        "        num_heads=4,\n",
        "        mlp_ratio=4.0,\n",
        "        dropout=0.1,\n",
        "        embedding_dim=128,\n",
        "        num_classes=num_classes\n",
        "    ).to(device)\n",
        "\n",
        "    # Print model summary\n",
        "    print(model)\n",
        "    num_params = sum(p.numel() for p in model.parameters())\n",
        "    print(f\"Number of parameters: {num_params:,}\")\n",
        "\n",
        "    # Create optimizer\n",
        "    optimizer = optim.Adam(model.parameters(), lr=learning_rate, weight_decay=weight_decay)\n",
        "\n",
        "    # Learning rate scheduler\n",
        "    scheduler = optim.lr_scheduler.CosineAnnealingLR(optimizer, T_max=num_epochs)\n",
        "\n",
        "    # Create output directory for saving results\n",
        "    os.makedirs('results', exist_ok=True)\n",
        "    model_save_path = 'results/best_model.pth'\n",
        "\n",
        "    # Train the model with metric learning\n",
        "    train_losses, val_losses, train_accs, val_accs = train_with_metric_learning(\n",
        "        model,\n",
        "        train_loader,\n",
        "        val_loader,\n",
        "        optimizer,\n",
        "        scheduler,\n",
        "        num_epochs=num_epochs,\n",
        "        save_path=model_save_path\n",
        "    )\n",
        "\n",
        "    # Plot training history\n",
        "    plot_training_history(train_losses, val_losses, train_accs, val_accs)\n",
        "\n",
        "    # Load best model\n",
        "    model.load_state_dict(torch.load(model_save_path))\n",
        "\n",
        "    # Evaluate model\n",
        "    accuracy, all_preds, all_labels, confusion_matrix = evaluate_model(model, test_loader)\n",
        "\n",
        "    # Extract embeddings\n",
        "    test_embeddings, test_labels = extract_embeddings(model, test_loader)\n",
        "\n",
        "    # Visualize embeddings\n",
        "    visualize_embeddings(test_embeddings, test_labels, class_names)\n",
        "\n",
        "    # Calculate precision@k\n",
        "    distances = compute_distance_matrix(test_embeddings)\n",
        "    prec_at_5 = precision_at_k(distances, test_labels, k=5)\n",
        "    print(f\"Precision@5 for retrieval: {prec_at_5:.4f}\")\n",
        "\n",
        "    # Visualize nearest neighbors\n",
        "    visualize_neighbors(test_loader, test_embeddings, test_labels, class_names)\n",
        "\n",
        "    print(\"All visualizations have been saved as PNG files in the current directory.\")\n",
        "\n",
        "if __name__ == \"__main__\":\n",
        "    main()"
      ]
    }
  ],
  "metadata": {
    "colab": {
      "provenance": [],
      "toc_visible": true
    },
    "kernelspec": {
      "display_name": "Python 3 (ipykernel)",
      "language": "python",
      "name": "python3"
    },
    "language_info": {
      "codemirror_mode": {
        "name": "ipython",
        "version": 3
      },
      "file_extension": ".py",
      "mimetype": "text/x-python",
      "name": "python",
      "nbconvert_exporter": "python",
      "pygments_lexer": "ipython3",
      "version": "3.11.11"
    }
  },
  "nbformat": 4,
  "nbformat_minor": 0
}
